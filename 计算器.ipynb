{
 "cells": [
  {
   "cell_type": "code",
   "execution_count": 5,
   "metadata": {},
   "outputs": [],
   "source": [
    "import re"
   ]
  },
  {
   "cell_type": "markdown",
   "metadata": {},
   "source": [
    "## 思路\n",
    "1. 先判断算术式中是否存在非数字、运算符以外的字符，如果有则报错提示！\n",
    "2. 替换算术式中可以合并的运算符，例如：++可以合并为+，+-可以合并为-，等等\n",
    "2. 判断算术式中是否有括号并检查是否成对\n",
    "3. 每次运算都是优先提取出整个算术式中最里层括号中的运算式\n",
    "4. 提取出后，计算结果然后将结果替换之前的运算式\n",
    "5. 重复第3点"
   ]
  },
  {
   "cell_type": "markdown",
   "metadata": {},
   "source": [
    "## 可能会遇到的问题\n",
    "1. 比较麻烦的就是负数问题，但一个式子是这样时：-1--1*-1，处理起来就容易出错，除法同理\n",
    "2. 如何通过正则表达式提取最里层括号中的算术式"
   ]
  },
  {
   "cell_type": "markdown",
   "metadata": {},
   "source": [
    "## 解决办法\n",
    "    1. 正确提取出乘除法算术式的正则表达式：'-?(-?\\d+\\.?\\d*\\*-?\\d+\\.?\\d*)'，'-?(-?\\d+\\.?\\d*/-?\\d+\\.?\\d*)'\n",
    "    2. 提取出最里层括号中的算术式的正则表达式：re.findall('\\([^()]*\\)', '1+(1+1-((1*1+(2/2)+((-4)+4)))')[-1]"
   ]
  },
  {
   "cell_type": "code",
   "execution_count": 2,
   "metadata": {},
   "outputs": [],
   "source": [
    "def calculate(formula):\n",
    "    if check(formula):\n",
    "        return \"输入的算术式有误，请检查后再次尝试！\"\n",
    "    regex = '\\([^()]*\\)'\n",
    "    text = format_formula(formula)\n",
    "    while True:\n",
    "        kuohao_list = re.findall(regex, text)\n",
    "        # 如果算术式中存在括号\n",
    "        if kuohao_list:\n",
    "            kuohao = kuohao_list[-1]\n",
    "            # 计算出括号中的表达式结果\n",
    "            result = operate(kuohao[1:-1])\n",
    "            # 用结果替换表达式\n",
    "            text = text.replace(kuohao, str(result))\n",
    "        else:\n",
    "            result = operate(text)\n",
    "            if re.match('-?\\d+\\.0', result):\n",
    "                return int(float(result))\n",
    "            else:\n",
    "                return float(result)\n",
    "\n",
    "\n",
    "def operate(formula):\n",
    "    # 计算不含括号的算术式\n",
    "    multiply_divide_regex = '-?(-?\\d+\\.?\\d*)([*/])(-?\\d+\\.?\\d*)'\n",
    "    add_subtract_regex = '(-?\\d+\\.?\\d*)([+\\-])(-?\\d+\\.?\\d*)'\n",
    "    text = formula\n",
    "    while True:\n",
    "        multiply_divide = re.findall(multiply_divide_regex, text)\n",
    "        add_subtract = re.findall(add_subtract_regex, text)\n",
    "        # 乘除法\n",
    "        if multiply_divide:\n",
    "            a, operator, b = multiply_divide[0]\n",
    "            result = 0\n",
    "            if operator == '*':\n",
    "                result = float(a) * float(b)\n",
    "            else:\n",
    "                if float(b) == 0:\n",
    "                    raise ZeroDivisionError('除数不能为0！')\n",
    "                result = float(a) / float(b)\n",
    "            text = text.replace(''.join([a, operator, b]), str(result))\n",
    "        # 加减法\n",
    "        elif add_subtract:\n",
    "            a, operator, b = add_subtract[0]\n",
    "            result = 0\n",
    "            if operator == '+':\n",
    "                result = float(a) + float(b)\n",
    "            else:\n",
    "                result = float(a) - float(b)\n",
    "            text = text.replace(''.join([a, operator, b]), str(result))\n",
    "            # print(text)\n",
    "        # 最后只剩下结果\n",
    "        else:\n",
    "            return text"
   ]
  },
  {
   "cell_type": "code",
   "execution_count": 3,
   "metadata": {},
   "outputs": [],
   "source": [
    "def check(s):\n",
    "    # 检查算术式的正确性\n",
    "    return  re.findall('[^ 0-9+\\-*/\\(\\)]', s) or len(re.findall('\\(', s)) != len(re.findall('\\)', s))\n",
    "\n",
    "def format_formula(s):\n",
    "    # 格式化运算符\n",
    "    format_dict = {\n",
    "        '++': '+',\n",
    "        '--': '+',\n",
    "        '+-': '-',\n",
    "        '-+': '-',\n",
    "        '*+': '*',\n",
    "        '/+': '/',\n",
    "        ' ': '',\n",
    "    }\n",
    "    for key in format_dict:\n",
    "        s = s.replace(key, format_dict[key])\n",
    "    return s"
   ]
  },
  {
   "cell_type": "code",
   "execution_count": 6,
   "metadata": {},
   "outputs": [
    {
     "name": "stdout",
     "output_type": "stream",
     "text": [
      "-1271\n"
     ]
    }
   ],
   "source": [
    "print(calculate('1+2- (3*4 + (78+98*12) + ( (1-2)+45/5 ))'))"
   ]
  },
  {
   "cell_type": "code",
   "execution_count": null,
   "metadata": {},
   "outputs": [],
   "source": []
  }
 ],
 "metadata": {
  "kernelspec": {
   "display_name": "Python 3",
   "language": "python",
   "name": "python3"
  },
  "language_info": {
   "codemirror_mode": {
    "name": "ipython",
    "version": 3
   },
   "file_extension": ".py",
   "mimetype": "text/x-python",
   "name": "python",
   "nbconvert_exporter": "python",
   "pygments_lexer": "ipython3",
   "version": "3.6.5"
  }
 },
 "nbformat": 4,
 "nbformat_minor": 2
}
